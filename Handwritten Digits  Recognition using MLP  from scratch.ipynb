{
 "cells": [
  {
   "cell_type": "markdown",
   "id": "957804ae",
   "metadata": {
    "id": "obvious-looking"
   },
   "source": [
    "# Handwritten Digits Recognition using MLP from scratch\n",
    "\n",
    "\n"
   ]
  },
  {
   "cell_type": "markdown",
   "id": "add93b72",
   "metadata": {},
   "source": [
    "![title](MLP.png)"
   ]
  },
  {
   "cell_type": "code",
   "execution_count": 1,
   "id": "0481791d",
   "metadata": {},
   "outputs": [],
   "source": [
    "#import the necessary libraries\n",
    "import numpy as np\n",
    "import matplotlib.pyplot as plt\n",
    "import random"
   ]
  },
  {
   "cell_type": "code",
   "execution_count": 2,
   "id": "e5091346",
   "metadata": {},
   "outputs": [],
   "source": [
    "#import tensorflow for loading the dataset MNIST\n",
    "import tensorflow as tf\n",
    "from tensorflow.keras.datasets import mnist\n",
    "from tensorflow.keras.utils import to_categorical\n",
    "\n",
    "# load the Dataset\n",
    "(train_images, train_labels), (test_images, test_labels) = mnist.load_data()\n",
    "\n",
    "# reshape and normalize the data\n",
    "train_images = train_images.reshape((train_images.shape[0],train_images.shape[1]*train_images.shape[2])).astype('float32') / 255\n",
    "test_images = test_images.reshape((test_images.shape[0],test_images.shape[1]*test_images.shape[2])).astype('float32') / 255\n",
    "\n",
    "# One-hot encode labels\n",
    "train_labels = to_categorical(train_labels)\n",
    "test_labels = to_categorical(test_labels)\n",
    "\n",
    "# Transpose data to match the shapes\n",
    "X_train = train_images.T\n",
    "Y_train = train_labels.T\n",
    "X_test = test_images.T\n",
    "Y_test = test_labels.T"
   ]
  },
  {
   "cell_type": "code",
   "execution_count": 3,
   "id": "continental-paragraph",
   "metadata": {
    "colab": {
     "base_uri": "https://localhost:8080/"
    },
    "id": "continental-paragraph",
    "outputId": "a1f7f617-12b9-4e84-cfc9-da3c159badff"
   },
   "outputs": [
    {
     "name": "stdout",
     "output_type": "stream",
     "text": [
      "shape of X_train : (784, 60000)\n",
      "shape of Y_train : (10, 60000)\n",
      "shape of X_test : (784, 10000)\n",
      "shape of Y_test : (10, 10000)\n"
     ]
    }
   ],
   "source": [
    "print(\"shape of X_train :\", X_train.shape)\n",
    "print(\"shape of Y_train :\", Y_train.shape)\n",
    "print(\"shape of X_test :\", X_test.shape)\n",
    "print(\"shape of Y_test :\", Y_test.shape)"
   ]
  },
  {
   "cell_type": "code",
   "execution_count": 4,
   "id": "certain-elizabeth",
   "metadata": {
    "colab": {
     "base_uri": "https://localhost:8080/",
     "height": 430
    },
    "id": "certain-elizabeth",
    "outputId": "7a01dc84-40af-4ec7-a57a-28ffde99301d"
   },
   "outputs": [
    {
     "data": {
      "image/png": "[encoded data removed]",
      "text/plain": [
       "<Figure size 640x480 with 1 Axes>"
      ]
     },
     "metadata": {},
     "output_type": "display_data"
    }
   ],
   "source": [
    "# Randomly select an image from the train_set\n",
    "index = random.randrange(0, X_train.shape[1])\n",
    "# Display the selected image\n",
    "plt.imshow(X_train[:, index].reshape(28, 28), cmap = 'gray')\n",
    "plt.show()"
   ]
  },
  {
   "cell_type": "markdown",
   "id": "8f8a245e",
   "metadata": {},
   "source": [
    "# Activation functions"
   ]
  },
  {
   "cell_type": "markdown",
   "id": "32b833dd",
   "metadata": {},
   "source": [
    "![title](activationfun.png)"
   ]
  },
  {
   "cell_type": "code",
   "execution_count": 5,
   "id": "centered-tunnel",
   "metadata": {
    "id": "centered-tunnel"
   },
   "outputs": [],
   "source": [
    "#activation functions\n",
    "def relu(Z):\n",
    "    return np.maximum(Z, 0)\n",
    "\n",
    "def softmax(Z):\n",
    "    expX = np.exp(Z)\n",
    "    return expX/np.sum(expX, axis = 0)"
   ]
  },
  {
   "cell_type": "code",
   "execution_count": 6,
   "id": "9dcae167",
   "metadata": {},
   "outputs": [],
   "source": [
    "#derivative of activation function Relu\n",
    "def derivative_relu(Z):\n",
    "    return (Z > 0).astype('float32')"
   ]
  },
  {
   "cell_type": "markdown",
   "id": "1b57e642",
   "metadata": {},
   "source": [
    "# initialize_parameters"
   ]
  },
  {
   "cell_type": "code",
   "execution_count": 7,
   "id": "prepared-heritage",
   "metadata": {
    "id": "prepared-heritage"
   },
   "outputs": [],
   "source": [
    "def initialize_parameters(input_size, layers, output):\n",
    "    np.random.seed(0)\n",
    "    #hidden layer 1\n",
    "    W1 = np.random.randn(layers[0], input_size)* np.sqrt(2 / input_size)\n",
    "    B1 = np.zeros((layers[0], 1))\n",
    "    #hidden layer 2\n",
    "    W2 = np.random.randn(layers[1], layers[0])* np.sqrt(2 / layers[0])\n",
    "    B2 = np.zeros((layers[1], 1))\n",
    "    #output layer \n",
    "    W3 = np.random.randn(output, layers[1])* np.sqrt(2 / layers[1])\n",
    "    B3 = np.zeros((output, 1))\n",
    "    \n",
    "    parameters = {\n",
    "        \"W1\": W1,\n",
    "        \"B1\": B1,\n",
    "        \"W2\": W2,\n",
    "        \"B2\": B2,\n",
    "        \"W3\": W3,\n",
    "        \"B3\": B3\n",
    "    }\n",
    "    \n",
    "    return parameters"
   ]
  },
  {
   "cell_type": "markdown",
   "id": "367540af",
   "metadata": {},
   "source": [
    "# Forward propagation"
   ]
  },
  {
   "cell_type": "markdown",
   "id": "e4609f4f",
   "metadata": {},
   "source": [
    "![title](forwardprop.png)"
   ]
  },
  {
   "cell_type": "code",
   "execution_count": 8,
   "id": "voluntary-sigma",
   "metadata": {
    "id": "voluntary-sigma"
   },
   "outputs": [],
   "source": [
    "def forward_propagation(X, parameters):\n",
    "    \n",
    "    W1 = parameters['W1']\n",
    "    B1 = parameters['B1']\n",
    "    W2 = parameters['W2']\n",
    "    B2 = parameters['B2']\n",
    "    W3 = parameters['W3']\n",
    "    B3 = parameters['B3']\n",
    "    \n",
    "    Z1 = np.dot(W1, X) + B1\n",
    "    A1 = relu(Z1)\n",
    "    \n",
    "    Z2 = np.dot(W2, A1) + B2\n",
    "    A2 = relu(Z2)\n",
    "    \n",
    "    Z3 = np.dot(W3, A2) + B3\n",
    "    A3 = softmax(Z3)\n",
    "    \n",
    "    forward_cache = {\n",
    "        \n",
    "        \"A1\": A1,       \n",
    "        \"A2\": A2,        \n",
    "        \"A3\": A3\n",
    "    }\n",
    "    \n",
    "    return forward_cache\n"
   ]
  },
  {
   "cell_type": "markdown",
   "id": "62637bb8",
   "metadata": {},
   "source": [
    "# Loss function"
   ]
  },
  {
   "cell_type": "code",
   "execution_count": 9,
   "id": "legendary-playback",
   "metadata": {
    "id": "legendary-playback"
   },
   "outputs": [],
   "source": [
    "def compute_loss(A3, Y):\n",
    "    \n",
    "    m = Y.shape[1]\n",
    "    L = -np.sum(Y * np.log(A3)) / m  \n",
    "    return L"
   ]
  },
  {
   "cell_type": "markdown",
   "id": "43b1e16e",
   "metadata": {},
   "source": [
    "# Backward propagation"
   ]
  },
  {
   "cell_type": "markdown",
   "id": "fdd23e6e",
   "metadata": {},
   "source": [
    "![title](Backprop.png)"
   ]
  },
  {
   "cell_type": "code",
   "execution_count": 10,
   "id": "weird-lyric",
   "metadata": {
    "id": "weird-lyric"
   },
   "outputs": [],
   "source": [
    "def backward_propagation(X, Y, parameters, forward_cache):\n",
    "    \n",
    "    m = X.shape[1]\n",
    "    \n",
    "    W1 = parameters['W1']\n",
    "    W2 = parameters['W2']\n",
    "    W3 = parameters['W3']\n",
    "    A1 = forward_cache['A1']\n",
    "    A2 = forward_cache['A2']\n",
    "    A3 = forward_cache['A3']\n",
    "    \n",
    "    # Backward pass through the output layer with softmax and loss\n",
    "    dZ3 = A3 - Y\n",
    "    dW3 = np.dot(dZ3, A2.T) / m\n",
    "    dB3 = np.sum(dZ3, axis=1, keepdims=True) / m\n",
    "    \n",
    "    # Backward pass through the second hidden layer with ReLU activation\n",
    "    dZ2 = np.dot(W3.T, dZ3) * derivative_relu(A2)\n",
    "    dW2 = np.dot(dZ2, A1.T) / m\n",
    "    dB2 = np.sum(dZ2, axis=1, keepdims=True) / m\n",
    "    \n",
    "    # Backward pass through the first hidden layer with ReLU activation\n",
    "    dZ1 = np.dot(W2.T, dZ2) * derivative_relu(A1)\n",
    "    dW1 = np.dot(dZ1, X.T) / m\n",
    "    dB1 = np.sum(dZ1, axis=1, keepdims=True) / m\n",
    "\n",
    "    gradients = {\n",
    "        \n",
    "        \"dW1\": dW1,\n",
    "        \"dB1\": dB1,\n",
    "        \"dW2\": dW2,\n",
    "        \"dB2\": dB2,\n",
    "        \"dW3\": dW3,\n",
    "        \"dB3\": dB3\n",
    "    }\n",
    "    return gradients\n"
   ]
  },
  {
   "cell_type": "markdown",
   "id": "capital-hostel",
   "metadata": {
    "id": "capital-hostel"
   },
   "source": [
    "# Update Parameters"
   ]
  },
  {
   "cell_type": "code",
   "execution_count": 11,
   "id": "written-sullivan",
   "metadata": {
    "id": "written-sullivan"
   },
   "outputs": [],
   "source": [
    "def update_parameters(parameters, gradients, learning_rate):\n",
    "    \n",
    "    W1 = parameters['W1']\n",
    "    B1 = parameters['B1']\n",
    "    W2 = parameters['W2']\n",
    "    B2 = parameters['B2']\n",
    "    W3 = parameters['W3']\n",
    "    B3 = parameters['B3']\n",
    "    \n",
    "    dW1 = gradients['dW1']\n",
    "    dB1 = gradients['dB1']\n",
    "    dW2 = gradients['dW2']\n",
    "    dB2 = gradients['dB2']\n",
    "    dW3 = gradients['dW3']\n",
    "    dB3 = gradients['dB3']\n",
    "    \n",
    "    W1 = W1 - learning_rate * dW1\n",
    "    B1 = B1 - learning_rate * dB1\n",
    "    W2 = W2 - learning_rate * dW2\n",
    "    B2 = B2 - learning_rate * dB2\n",
    "    W3 = W3 - learning_rate * dW3\n",
    "    B3 = B3 - learning_rate * dB3\n",
    "    \n",
    "    parameters = {\n",
    "        \"W1\": W1,\n",
    "        \"B1\": B1,\n",
    "        \"W2\": W2,\n",
    "        \"B2\": B2,\n",
    "        \"W3\": W3,\n",
    "        \"B3\": B3\n",
    "    }\n",
    "    \n",
    "    return parameters\n"
   ]
  },
  {
   "cell_type": "markdown",
   "id": "intelligent-julian",
   "metadata": {
    "id": "intelligent-julian"
   },
   "source": [
    "# Complete Model"
   ]
  },
  {
   "cell_type": "code",
   "execution_count": 12,
   "id": "dietary-capacity",
   "metadata": {
    "id": "dietary-capacity"
   },
   "outputs": [],
   "source": [
    "def model(X, Y, layers, learning_rate, iterations):\n",
    "    n_x = X.shape[0]\n",
    "    n_y = Y.shape[0]\n",
    "    \n",
    "    parameters = initialize_parameters(n_x, layers, n_y)\n",
    "    cost_list = []\n",
    "\n",
    "    for i in range(iterations):\n",
    "        \n",
    "        forward_cache = forward_propagation(X, parameters)\n",
    "        cost = compute_loss(forward_cache['A3'], Y)\n",
    "        gradients = backward_propagation(X, Y, parameters, forward_cache)\n",
    "        parameters = update_parameters(parameters, gradients, learning_rate)\n",
    "        cost_list.append(cost)\n",
    "        \n",
    "        if i % 10 == 0:\n",
    "            print(f\"Cost after iteration {i}: {cost}\")\n",
    "\n",
    "    return parameters, cost_list"
   ]
  },
  {
   "cell_type": "markdown",
   "id": "7a459748",
   "metadata": {},
   "source": [
    "# Train the model"
   ]
  },
  {
   "cell_type": "code",
   "execution_count": 13,
   "id": "integral-credit",
   "metadata": {
    "colab": {
     "base_uri": "https://localhost:8080/"
    },
    "id": "integral-credit",
    "outputId": "3a306d0f-43c4-49f9-e90c-92ca200398a9",
    "scrolled": true
   },
   "outputs": [
    {
     "name": "stdout",
     "output_type": "stream",
     "text": [
      "Entrez le nombre d'unités pour la première couche : 128\n",
      "Entrez le nombre d'unités pour la deuxième couche cachée : 64\n",
      "Cost after iteration 0: 2.3141318041211236\n",
      "Cost after iteration 10: 1.4843995947705388\n",
      "Cost after iteration 20: 0.9492420579750397\n",
      "Cost after iteration 30: 0.701896274600664\n",
      "Cost after iteration 40: 0.5802769916987591\n",
      "Cost after iteration 50: 0.5107472780870683\n",
      "Cost after iteration 60: 0.46598815363662893\n",
      "Cost after iteration 70: 0.43456980383943405\n",
      "Cost after iteration 80: 0.4111332720444282\n",
      "Cost after iteration 90: 0.3928138064668625\n"
     ]
    }
   ],
   "source": [
    "layers = []\n",
    "layer1_units = int(input(\"Entrez le nombre d'unités pour la première couche : \"))\n",
    "layers.append(layer1_units)\n",
    "\n",
    "layer2_units = int(input(\"Entrez le nombre d'unités pour la deuxième couche cachée : \"))\n",
    "layers.append(layer2_units)\n",
    "\n",
    "learning_rate = 0.1\n",
    "iterations = 100\n",
    "\n",
    "parameters, cost_list = model(X_train, Y_train,layers, learning_rate, iterations)\n"
   ]
  },
  {
   "cell_type": "code",
   "execution_count": 14,
   "id": "5ec186cd",
   "metadata": {},
   "outputs": [
    {
     "name": "stdout",
     "output_type": "stream",
     "text": [
      "{'W1': array([[ 0.0890981 ,  0.02021099,  0.04943373, ...,  0.02632982,\n",
      "         0.03090699, -0.06775582],\n",
      "       [ 0.02408701,  0.00749784,  0.02672082, ...,  0.00484894,\n",
      "        -0.00227857,  0.00399625],\n",
      "       [ 0.04295829, -0.04238217, -0.05110231, ..., -0.00364861,\n",
      "         0.01571416, -0.05446546],\n",
      "       ...,\n",
      "       [ 0.10463745, -0.01817306,  0.0719828 , ...,  0.03185672,\n",
      "         0.03377056, -0.04224196],\n",
      "       [-0.02920855, -0.03438521, -0.00519266, ..., -0.04142045,\n",
      "        -0.01817241,  0.00600112],\n",
      "       [-0.04080482, -0.03145434, -0.10712083, ..., -0.0230285 ,\n",
      "         0.0527317 ,  0.06451818]]), 'B1': array([[-0.00279018],\n",
      "       [ 0.02321333],\n",
      "       [ 0.03307365],\n",
      "       [ 0.00818517],\n",
      "       [ 0.00408012],\n",
      "       [ 0.04640228],\n",
      "       [ 0.04765052],\n",
      "       [ 0.00845607],\n",
      "       [ 0.0213668 ],\n",
      "       [ 0.00257737],\n",
      "       [ 0.01146175],\n",
      "       [-0.00266692],\n",
      "       [ 0.04175604],\n",
      "       [ 0.0328439 ],\n",
      "       [ 0.00991636],\n",
      "       [ 0.02161973],\n",
      "       [-0.00312994],\n",
      "       [ 0.00180575],\n",
      "       [-0.00488845],\n",
      "       [ 0.02962376],\n",
      "       [ 0.01315521],\n",
      "       [-0.00267794],\n",
      "       [ 0.03564972],\n",
      "       [-0.00240347],\n",
      "       [-0.02170232],\n",
      "       [ 0.02341753],\n",
      "       [ 0.02278321],\n",
      "       [-0.01654465],\n",
      "       [-0.0052334 ],\n",
      "       [ 0.01516004],\n",
      "       [ 0.00162019],\n",
      "       [ 0.00477378],\n",
      "       [ 0.00963063],\n",
      "       [ 0.01604179],\n",
      "       [ 0.00643355],\n",
      "       [ 0.00358602],\n",
      "       [ 0.00981024],\n",
      "       [-0.00179289],\n",
      "       [ 0.01538149],\n",
      "       [ 0.04049541],\n",
      "       [ 0.04216333],\n",
      "       [ 0.01687068],\n",
      "       [ 0.02806671],\n",
      "       [ 0.00511653],\n",
      "       [-0.00063372],\n",
      "       [ 0.02704488],\n",
      "       [ 0.01462492],\n",
      "       [ 0.01850724],\n",
      "       [ 0.03046576],\n",
      "       [ 0.03361595],\n",
      "       [ 0.0130495 ],\n",
      "       [ 0.02606136],\n",
      "       [ 0.03593778],\n",
      "       [ 0.02120038],\n",
      "       [ 0.01938644],\n",
      "       [ 0.00900828],\n",
      "       [ 0.0066426 ],\n",
      "       [ 0.00785214],\n",
      "       [ 0.01620492],\n",
      "       [ 0.02836847],\n",
      "       [ 0.02034261],\n",
      "       [ 0.0070917 ],\n",
      "       [-0.00311056],\n",
      "       [ 0.00888978],\n",
      "       [ 0.02876692],\n",
      "       [ 0.01925963],\n",
      "       [-0.01132631],\n",
      "       [-0.01376616],\n",
      "       [ 0.02583157],\n",
      "       [ 0.00161025],\n",
      "       [ 0.0021877 ],\n",
      "       [ 0.02139719],\n",
      "       [-0.00536185],\n",
      "       [-0.00193708],\n",
      "       [-0.01133964],\n",
      "       [ 0.00104476],\n",
      "       [ 0.01498654],\n",
      "       [ 0.02568591],\n",
      "       [-0.00470862],\n",
      "       [ 0.00382379],\n",
      "       [ 0.03313758],\n",
      "       [ 0.01229797],\n",
      "       [-0.0012736 ],\n",
      "       [ 0.00532628],\n",
      "       [ 0.01082405],\n",
      "       [ 0.0311025 ],\n",
      "       [ 0.00559499],\n",
      "       [ 0.03000103],\n",
      "       [ 0.03094196],\n",
      "       [ 0.00296637],\n",
      "       [ 0.01920014],\n",
      "       [ 0.04081258],\n",
      "       [-0.00250655],\n",
      "       [ 0.00046478],\n",
      "       [ 0.04915775],\n",
      "       [-0.01139198],\n",
      "       [ 0.01742506],\n",
      "       [ 0.00845547],\n",
      "       [ 0.00830294],\n",
      "       [ 0.02514675],\n",
      "       [ 0.03824486],\n",
      "       [ 0.01801255],\n",
      "       [ 0.00288281],\n",
      "       [ 0.01395707],\n",
      "       [ 0.00117031],\n",
      "       [ 0.0405821 ],\n",
      "       [ 0.00902832],\n",
      "       [ 0.04489323],\n",
      "       [ 0.02771339],\n",
      "       [ 0.02131691],\n",
      "       [-0.00101135],\n",
      "       [ 0.01523153],\n",
      "       [ 0.01084737],\n",
      "       [ 0.02511028],\n",
      "       [-0.00896667],\n",
      "       [ 0.05526361],\n",
      "       [ 0.03260809],\n",
      "       [ 0.01059635],\n",
      "       [ 0.02263538],\n",
      "       [ 0.06467235],\n",
      "       [-0.00111165],\n",
      "       [ 0.02131068],\n",
      "       [-0.00172373],\n",
      "       [ 0.0020988 ],\n",
      "       [ 0.00894161],\n",
      "       [ 0.02077032],\n",
      "       [-0.00106635],\n",
      "       [ 0.02534131]]), 'W2': array([[-0.06961023,  0.26333152,  0.04815285, ...,  0.06785419,\n",
      "        -0.04509594, -0.14351086],\n",
      "       [-0.05626241,  0.19165957, -0.24008401, ..., -0.02113523,\n",
      "         0.19585249,  0.01777151],\n",
      "       [ 0.18949211, -0.18217136, -0.06129578, ...,  0.05629086,\n",
      "        -0.16331704,  0.05499022],\n",
      "       ...,\n",
      "       [-0.05960714,  0.14599851, -0.08813931, ..., -0.04039154,\n",
      "        -0.03971294, -0.15039705],\n",
      "       [-0.09290308,  0.12900364,  0.04851797, ..., -0.12402462,\n",
      "         0.02894485, -0.0689899 ],\n",
      "       [-0.06780324, -0.05200196, -0.25279445, ...,  0.09989059,\n",
      "         0.07453554, -0.23579471]]), 'B2': array([[ 0.04415504],\n",
      "       [ 0.04830871],\n",
      "       [ 0.01936265],\n",
      "       [ 0.0114915 ],\n",
      "       [-0.00067452],\n",
      "       [ 0.02000738],\n",
      "       [ 0.00024191],\n",
      "       [ 0.01554457],\n",
      "       [ 0.00196357],\n",
      "       [ 0.0069976 ],\n",
      "       [ 0.02938932],\n",
      "       [ 0.00632   ],\n",
      "       [ 0.03543633],\n",
      "       [ 0.05877692],\n",
      "       [ 0.03330504],\n",
      "       [ 0.01026829],\n",
      "       [-0.03053851],\n",
      "       [ 0.00181562],\n",
      "       [ 0.01151433],\n",
      "       [-0.00321076],\n",
      "       [ 0.0194712 ],\n",
      "       [ 0.01956038],\n",
      "       [ 0.02027465],\n",
      "       [ 0.01127736],\n",
      "       [-0.01703006],\n",
      "       [-0.00348031],\n",
      "       [ 0.04414275],\n",
      "       [ 0.00414854],\n",
      "       [ 0.00603068],\n",
      "       [ 0.00037866],\n",
      "       [ 0.00028791],\n",
      "       [ 0.05461142],\n",
      "       [-0.00748242],\n",
      "       [ 0.03855391],\n",
      "       [ 0.00022503],\n",
      "       [-0.00160278],\n",
      "       [-0.00381904],\n",
      "       [ 0.02422133],\n",
      "       [-0.00586642],\n",
      "       [ 0.00652955],\n",
      "       [ 0.03477377],\n",
      "       [ 0.02226315],\n",
      "       [ 0.00425173],\n",
      "       [ 0.05114562],\n",
      "       [ 0.0087469 ],\n",
      "       [ 0.01184961],\n",
      "       [ 0.00557441],\n",
      "       [ 0.0009755 ],\n",
      "       [ 0.03268388],\n",
      "       [ 0.01602918],\n",
      "       [ 0.02428384],\n",
      "       [-0.00746854],\n",
      "       [-0.00437373],\n",
      "       [-0.0051904 ],\n",
      "       [ 0.0076402 ],\n",
      "       [ 0.06114736],\n",
      "       [-0.0069164 ],\n",
      "       [ 0.00361978],\n",
      "       [ 0.00280853],\n",
      "       [ 0.03977177],\n",
      "       [-0.01266053],\n",
      "       [-0.02006687],\n",
      "       [-0.00411148],\n",
      "       [ 0.01627287]]), 'W3': array([[-1.69778511e-01, -2.17878106e-01, -2.50054138e-02,\n",
      "        -2.65054545e-01,  2.64765695e-01, -1.32647352e-01,\n",
      "         3.44616094e-02, -2.39645621e-02,  1.32106641e-01,\n",
      "        -6.22304984e-02, -1.32370654e-01,  1.86998636e-01,\n",
      "        -1.10863572e-01, -2.58603824e-01,  3.10890558e-01,\n",
      "        -2.86360467e-01,  4.51195120e-01,  2.10713071e-01,\n",
      "        -1.10345864e-02,  1.27124846e-01, -1.50324821e-01,\n",
      "        -1.88339382e-01,  1.76945923e-01, -2.74444097e-01,\n",
      "         3.51074879e-02,  1.08466556e-01, -8.53026417e-02,\n",
      "         1.88966451e-01,  1.38037455e-01, -2.63488241e-02,\n",
      "         1.33125921e-01, -2.34443031e-02,  3.86089300e-01,\n",
      "         1.53510723e-01,  9.64790384e-02, -4.07936234e-02,\n",
      "         1.06529868e-01,  7.97473121e-02,  7.80547239e-02,\n",
      "        -1.38781167e-01,  3.64860670e-02,  5.90634429e-02,\n",
      "         3.36675829e-02, -2.17811495e-02, -9.30439257e-02,\n",
      "         5.40474075e-02, -1.83631480e-01, -5.43567782e-02,\n",
      "        -3.21299497e-01,  3.06510548e-01,  5.09671621e-01,\n",
      "         9.31879515e-02,  1.27105631e-01,  5.57439237e-02,\n",
      "         2.22535566e-01,  8.25147491e-02, -1.09820538e-01,\n",
      "        -1.01530488e-01,  5.86502003e-02, -6.27840566e-01,\n",
      "         1.40563493e-01,  5.62293819e-02,  1.37827955e-01,\n",
      "         9.47938906e-02],\n",
      "       [ 3.11346809e-01,  3.11258810e-01, -7.61471087e-03,\n",
      "         9.63154368e-02, -2.08953358e-01,  5.28845546e-02,\n",
      "         1.03459251e-01, -1.78777683e-01,  5.43853497e-02,\n",
      "         6.15043364e-02,  9.99584419e-02, -1.81523090e-02,\n",
      "         2.37892775e-01,  1.14938218e-01,  5.55867814e-02,\n",
      "         1.00968348e-01, -4.10057833e-01, -2.28156796e-02,\n",
      "        -1.40103490e-01, -1.69579303e-02, -1.28988687e-01,\n",
      "         1.57189528e-01,  2.30533468e-01, -4.14817561e-02,\n",
      "         9.98897272e-02, -9.07880562e-02, -4.13410788e-01,\n",
      "         1.46486837e-01, -2.43312502e-01,  9.58213367e-02,\n",
      "        -1.79374043e-01,  6.04837633e-01,  9.80332930e-02,\n",
      "         3.71031723e-01,  3.71298279e-02,  5.86601220e-02,\n",
      "         6.20846829e-02,  1.15541847e-01,  1.71342279e-02,\n",
      "         4.30259479e-01,  1.59260833e-01, -1.02265530e-01,\n",
      "         2.26437384e-01, -3.36722360e-01,  5.49254991e-02,\n",
      "        -1.99715977e-01, -4.32044310e-01, -2.25977179e-01,\n",
      "        -1.47180061e-01, -1.29033384e-01,  1.10944287e-01,\n",
      "        -1.08013728e-01, -6.50902588e-02, -9.15690363e-02,\n",
      "        -3.33607435e-02, -7.12371079e-02, -1.73337206e-01,\n",
      "         6.50540312e-02, -8.21531367e-03, -1.01031184e-01,\n",
      "         8.58884656e-02, -2.00409832e-01,  1.02963033e-01,\n",
      "        -2.76518189e-01],\n",
      "       [ 3.92100973e-01, -2.85775089e-01,  9.32669283e-02,\n",
      "        -2.24106305e-01,  4.49565363e-02, -1.99252673e-01,\n",
      "         2.17864323e-01, -9.58561163e-03, -3.69862002e-02,\n",
      "        -4.82550662e-02, -1.34428455e-01, -1.58810739e-01,\n",
      "         1.49420181e-01, -2.50197302e-01, -1.35770944e-01,\n",
      "        -2.68780670e-02,  2.97523473e-02,  6.96204816e-02,\n",
      "        -8.44058759e-02,  5.59184433e-02,  4.11720009e-02,\n",
      "         1.60911049e-02,  2.35225344e-02,  6.05270431e-02,\n",
      "        -1.13202796e-01, -5.44685606e-01, -5.24577693e-02,\n",
      "         1.36753718e-02, -2.48943607e-01, -2.15173860e-01,\n",
      "         1.74711003e-01, -3.29713152e-01, -1.34911746e-01,\n",
      "         1.98695052e-01, -7.18294029e-02, -1.29571663e-01,\n",
      "        -1.70293759e-01, -4.09492682e-01,  3.12440499e-01,\n",
      "         3.48928371e-01,  6.50851141e-02, -2.60602029e-01,\n",
      "        -2.14740450e-01,  1.58138857e-01,  8.56014828e-02,\n",
      "         2.99323575e-01, -2.32449394e-01, -2.51327552e-01,\n",
      "        -2.29959805e-01,  5.38106583e-01,  1.28781081e-01,\n",
      "        -4.39733359e-01,  2.06932367e-01, -2.93394042e-01,\n",
      "        -1.73629192e-01,  1.65832027e-02,  2.23168664e-02,\n",
      "        -2.60341735e-01,  7.84655594e-02,  4.47735861e-01,\n",
      "        -7.36696950e-02,  3.70083196e-01, -3.67617870e-02,\n",
      "        -8.25838552e-02],\n",
      "       [ 7.34831476e-02, -1.44901462e-01, -2.03362141e-01,\n",
      "        -3.45814506e-01, -5.58631434e-02, -7.76600072e-02,\n",
      "        -2.58022289e-01,  1.53455599e-01, -3.12882667e-01,\n",
      "         7.96837234e-02,  3.10159735e-01,  4.81294491e-02,\n",
      "         1.52550117e-01,  2.01147740e-01, -1.33824383e-01,\n",
      "        -1.03311887e-01,  3.10387465e-02,  1.18101810e-01,\n",
      "         1.11848640e-05, -2.36623914e-02, -2.58034985e-01,\n",
      "        -1.27887839e-01, -3.59531971e-02,  2.50559948e-02,\n",
      "         3.71383527e-02,  1.54766996e-01,  1.33237479e-01,\n",
      "         1.23394742e-01,  1.36110319e-01, -9.25738631e-02,\n",
      "         4.32992619e-01, -3.86239532e-01, -2.38768743e-01,\n",
      "        -1.11497782e-01, -8.65497546e-02, -4.50988853e-01,\n",
      "         1.90623941e-01, -2.18542031e-02,  1.91133900e-01,\n",
      "        -2.28011081e-01,  1.61510227e-01,  2.93964258e-01,\n",
      "        -2.27664464e-01,  2.86550580e-01, -1.08467300e-01,\n",
      "        -1.15691681e-01,  5.48042041e-02,  3.16095893e-03,\n",
      "        -6.12520863e-02, -2.97772907e-01, -1.68276870e-01,\n",
      "        -3.72029209e-02,  1.39358730e-01, -4.07367195e-01,\n",
      "         2.93740506e-01,  5.97088480e-01, -1.30917667e-01,\n",
      "         1.12866539e-01,  1.60757999e-01, -2.05353391e-01,\n",
      "        -1.64366713e-01, -7.89698639e-02,  1.09023366e-01,\n",
      "        -3.17460590e-01],\n",
      "       [-1.85753449e-01,  1.46799697e-01, -5.43910496e-02,\n",
      "        -5.74132873e-02, -2.72238941e-01,  1.03775063e-01,\n",
      "         1.14051744e-01, -6.88572295e-02,  1.65310037e-02,\n",
      "        -9.30862100e-02, -1.60109090e-01, -2.04437762e-01,\n",
      "        -5.89530256e-02,  1.81385419e-01,  4.90834748e-01,\n",
      "        -4.23461551e-02,  1.85966878e-01, -1.77615415e-02,\n",
      "        -1.25073400e-02, -2.07714905e-01, -5.09645663e-02,\n",
      "        -5.47911680e-01,  9.86449971e-03,  1.07201031e-02,\n",
      "        -1.66552995e-01, -2.50782515e-01,  3.69620973e-01,\n",
      "         8.78565076e-02,  2.01539872e-01,  2.62384152e-02,\n",
      "        -1.82791259e-01,  1.74174246e-01, -4.32244802e-03,\n",
      "        -3.27149713e-01,  1.55812607e-01,  3.68251566e-01,\n",
      "        -4.32964553e-01,  2.64028745e-01, -2.15908476e-01,\n",
      "        -9.92380379e-02, -3.30245266e-01,  2.16381271e-02,\n",
      "         2.36672831e-01,  5.64675879e-02, -2.09092564e-03,\n",
      "         2.44176419e-01,  1.32407483e-01,  2.41009511e-01,\n",
      "         1.48920678e-02,  1.18265498e-01, -8.97380832e-03,\n",
      "         3.72029733e-02, -2.43087999e-01, -1.78937464e-01,\n",
      "        -1.84381131e-01, -6.07564182e-02,  3.78740412e-01,\n",
      "         2.37176882e-02,  4.60876096e-02,  2.20353123e-01,\n",
      "        -1.86711289e-01, -3.14437472e-01, -3.33034023e-02,\n",
      "        -1.10521450e-01],\n",
      "       [-1.83528984e-02,  2.65752932e-01,  1.09621191e-01,\n",
      "         1.10429957e-01,  1.52866672e-01, -2.94775052e-01,\n",
      "         1.12078473e-01,  2.88727858e-01, -2.19500004e-01,\n",
      "         2.88399824e-01, -7.59487894e-03,  4.40347166e-02,\n",
      "        -2.40844955e-01, -1.20059580e-01,  2.14574942e-01,\n",
      "         1.55349208e-01,  6.30306826e-02,  3.39317005e-01,\n",
      "        -9.32674022e-02,  1.03404690e-01,  2.66216793e-01,\n",
      "         1.52276759e-01,  6.03502149e-02, -1.03055349e-01,\n",
      "        -1.47168008e-01,  1.48996782e-01,  1.97389582e-01,\n",
      "        -4.17636065e-01,  3.76628286e-02,  5.52040775e-02,\n",
      "        -2.35400972e-01, -3.34595129e-01, -1.88027922e-01,\n",
      "         1.41266097e-01,  9.22752087e-03, -2.88789981e-01,\n",
      "        -2.77946973e-01, -1.21140572e-01,  1.02345383e-01,\n",
      "        -2.79469758e-01,  1.67002981e-01,  3.24860564e-01,\n",
      "         1.75770268e-01, -9.27014501e-02,  3.66301157e-02,\n",
      "         5.59398693e-02,  1.67689713e-01,  1.20191080e-01,\n",
      "        -2.17774667e-01,  7.14053404e-02,  1.29229799e-03,\n",
      "         1.10094350e-01, -2.79517964e-01, -1.56924206e-03,\n",
      "        -3.59473150e-01,  2.75695003e-01,  1.44472507e-01,\n",
      "        -2.35039483e-01, -1.22748507e-01, -1.27124249e-01,\n",
      "        -2.61367112e-01, -3.23415531e-01,  1.77303086e-01,\n",
      "        -3.63354863e-02],\n",
      "       [ 1.62846515e-01, -1.96869127e-01,  2.54827136e-01,\n",
      "        -3.07769860e-01, -5.03693477e-01,  1.16230708e-03,\n",
      "         1.15126981e-01, -2.33487110e-01,  1.46407739e-01,\n",
      "         1.34898271e-01, -1.56726701e-01, -1.94612830e-01,\n",
      "        -3.55850358e-01, -7.47415694e-02,  1.72958570e-01,\n",
      "        -2.43168714e-01,  1.61732744e-01,  1.64246757e-01,\n",
      "        -2.84740691e-01,  4.26088994e-01,  6.16292717e-02,\n",
      "         4.54056947e-01, -1.69465536e-01, -3.03051321e-01,\n",
      "         1.91384077e-01, -9.52208409e-02, -1.50181267e-01,\n",
      "        -1.45076968e-01,  1.01953235e-01, -1.52317549e-02,\n",
      "         3.30283464e-01,  3.80827969e-01,  6.20381595e-02,\n",
      "        -2.09738128e-01,  2.28948851e-01,  1.01211697e-01,\n",
      "        -3.35714749e-01,  1.88463876e-01,  1.93572588e-01,\n",
      "         7.05933805e-04,  5.27201962e-02,  4.66630849e-01,\n",
      "        -1.44545234e-01, -5.93125014e-02, -3.97762954e-01,\n",
      "         6.75669218e-02,  1.01144858e-02, -1.02809719e-01,\n",
      "         3.71943283e-01, -1.30909175e-01,  4.01108227e-02,\n",
      "        -6.45764744e-04,  1.37417870e-01,  8.44793583e-02,\n",
      "        -6.37986999e-02, -1.77798547e-02, -5.05491393e-02,\n",
      "         8.45382500e-02,  3.00579145e-01,  1.97232330e-01,\n",
      "         2.19613773e-02, -3.35319352e-01, -1.31797581e-01,\n",
      "        -1.25045194e-01],\n",
      "       [-3.14236207e-01, -1.61440362e-01,  3.02197184e-01,\n",
      "        -4.31361126e-01, -1.93770938e-01, -1.54488038e-01,\n",
      "         1.50520415e-01, -1.25582933e-01, -1.53440248e-01,\n",
      "        -1.75210298e-01, -4.28948929e-01, -1.35412261e-01,\n",
      "        -3.45795924e-01,  5.51491698e-01, -1.37502684e-01,\n",
      "         5.05872720e-02, -8.34058909e-02, -2.02910030e-01,\n",
      "         6.78042014e-02, -4.76067381e-02, -1.46176145e-01,\n",
      "         3.27565398e-01,  6.65148662e-02,  2.68582320e-01,\n",
      "        -1.90262129e-02,  1.09626066e-01,  2.44019098e-01,\n",
      "         9.99852403e-02, -1.58386536e-02,  2.18041423e-01,\n",
      "        -2.70572150e-01,  1.52303454e-01,  1.55309012e-02,\n",
      "         3.17708087e-01,  3.50098426e-02,  1.38142844e-02,\n",
      "         2.69278139e-01,  1.32177243e-01, -5.79674764e-02,\n",
      "        -2.41906555e-01,  3.28564759e-01,  3.94321150e-03,\n",
      "         5.85784498e-03,  4.33915330e-01,  1.54349713e-02,\n",
      "        -1.19080020e-01,  6.50052833e-02,  9.60290454e-02,\n",
      "         1.29851368e-02, -1.85738514e-01,  2.57630769e-01,\n",
      "         1.66324973e-01,  2.54718122e-01,  3.44507214e-01,\n",
      "        -1.79271020e-01,  2.80790907e-01, -3.68696783e-01,\n",
      "        -2.73407955e-01,  1.32108405e-01,  9.26582982e-02,\n",
      "         2.78461519e-03, -1.66602691e-01, -1.21474887e-01,\n",
      "         8.92352413e-02],\n",
      "       [ 5.98723146e-02,  1.68234478e-01, -1.71565652e-01,\n",
      "         1.57341012e-01, -8.82507902e-02, -3.44116237e-01,\n",
      "        -4.49032414e-04,  7.67806454e-02,  2.33894533e-03,\n",
      "         1.01252619e-01, -2.27599457e-01,  6.42937090e-02,\n",
      "        -3.01500309e-02, -2.42849263e-01, -4.09980861e-02,\n",
      "         4.99408227e-02,  3.53150205e-01,  4.01626769e-01,\n",
      "         1.00359355e-01,  8.41620048e-02, -2.12790263e-02,\n",
      "         2.26127152e-01, -3.90847674e-02, -4.97213895e-02,\n",
      "         1.98392443e-01,  2.56292948e-01, -2.01492838e-01,\n",
      "        -4.38332176e-02,  9.97091759e-03,  3.76117603e-01,\n",
      "        -2.16637755e-01, -1.39311750e-01, -4.36057556e-02,\n",
      "         6.73605403e-02, -7.88530397e-02, -7.74296201e-03,\n",
      "         1.78659865e-01, -1.82877325e-01,  1.27421722e-02,\n",
      "         1.83161558e-01,  1.71823697e-01, -6.08342594e-02,\n",
      "        -1.86791281e-01, -2.10508507e-01,  3.05751527e-01,\n",
      "         3.14271004e-02, -2.87133370e-02,  1.16491028e-01,\n",
      "        -1.05375749e-01,  8.77224651e-03, -1.12833740e-01,\n",
      "         3.08724994e-01,  3.19518607e-02,  2.21723336e-02,\n",
      "        -2.25633536e-01, -5.57894338e-01,  3.42083655e-01,\n",
      "         1.09276078e-01, -8.49482822e-02,  2.96270816e-02,\n",
      "         3.26115393e-01, -2.50395155e-02, -2.23346556e-02,\n",
      "         1.55659948e-02],\n",
      "       [-1.24037048e-01,  6.33593784e-02,  2.77314983e-01,\n",
      "        -1.97420652e-01,  6.77863399e-02, -2.09257678e-02,\n",
      "        -7.34298011e-02, -7.46399911e-02, -6.91109870e-02,\n",
      "         1.94500193e-01,  9.82264962e-02,  3.02355738e-03,\n",
      "        -1.17574876e-01, -1.29320730e-01, -2.11647629e-02,\n",
      "         7.33805584e-02,  4.51465603e-01, -3.01276910e-01,\n",
      "         2.20006353e-01,  1.54100828e-02, -3.02541258e-01,\n",
      "        -2.47307577e-02,  3.29954045e-01,  1.43481485e-01,\n",
      "         2.85908927e-02, -4.86532968e-02,  4.06597707e-02,\n",
      "        -1.61467423e-01, -1.39032700e-01, -4.24476884e-02,\n",
      "        -2.09317276e-01,  5.34119745e-02,  8.01240803e-02,\n",
      "        -3.29348595e-02,  1.63817291e-01,  7.64604840e-03,\n",
      "        -1.38236936e-01, -7.49954705e-02,  6.79996360e-02,\n",
      "         8.28098854e-02, -2.17128503e-01, -1.24951411e-01,\n",
      "         1.50071805e-01,  3.33671234e-01,  1.06819288e-01,\n",
      "        -2.46522171e-01,  9.84343187e-02, -3.44095127e-01,\n",
      "         2.27710119e-01, -2.98009492e-01,  2.59301158e-01,\n",
      "         3.03373249e-01,  4.26470348e-01, -3.19780531e-01,\n",
      "         7.68183000e-02,  5.23298846e-02, -7.95375619e-03,\n",
      "        -1.10132929e-01, -1.74765742e-01,  3.94081283e-01,\n",
      "         4.24651679e-02,  6.01831648e-02, -1.93988801e-01,\n",
      "        -2.05140993e-01]]), 'B3': array([[-0.06424009],\n",
      "       [ 0.06065074],\n",
      "       [ 0.00112116],\n",
      "       [ 0.01420888],\n",
      "       [ 0.0672678 ],\n",
      "       [ 0.04997126],\n",
      "       [-0.01093922],\n",
      "       [-0.00780517],\n",
      "       [-0.10122644],\n",
      "       [-0.00900891]])}\n"
     ]
    }
   ],
   "source": [
    "#parametres of our model\n",
    "print(parameters)"
   ]
  },
  {
   "cell_type": "markdown",
   "id": "2d5d15eb",
   "metadata": {},
   "source": [
    "# Accuracy"
   ]
  },
  {
   "cell_type": "code",
   "execution_count": 15,
   "id": "french-design",
   "metadata": {
    "colab": {
     "base_uri": "https://localhost:8080/"
    },
    "id": "french-design",
    "outputId": "36b56099-8147-45cd-e8b7-65c72b07d7ce"
   },
   "outputs": [],
   "source": [
    "def accuracy(inp, labels, parameters):\n",
    "    \n",
    "    a_out = forward_propagation(inp, parameters)  \n",
    "    a_out = np.argmax(a_out['A3'], axis=0)\n",
    "    labels = np.argmax(labels, axis=0)\n",
    "\n",
    "    acc = np.mean(a_out == labels) * 100\n",
    "    return acc"
   ]
  },
  {
   "cell_type": "code",
   "execution_count": 16,
   "id": "3cfb6292",
   "metadata": {},
   "outputs": [
    {
     "name": "stdout",
     "output_type": "stream",
     "text": [
      "Accuracy pour les données de train : 89.55166666666666 %\n",
      "Accuracy pour les données de test: 90.07 %\n"
     ]
    }
   ],
   "source": [
    "# accuracy for trainSet\n",
    "train_accuracy = accuracy(X_train, Y_train, parameters)\n",
    "# accuracy for testSet\n",
    "test_accuracy = accuracy(X_test, Y_test, parameters)\n",
    "\n",
    "print(\"Accuracy pour les données de train :\", train_accuracy, \"%\")\n",
    "print(\"Accuracy pour les données de test:\", test_accuracy, \"%\")\n"
   ]
  },
  {
   "cell_type": "markdown",
   "id": "821673ce",
   "metadata": {},
   "source": [
    "# Make a prediction"
   ]
  },
  {
   "cell_type": "code",
   "execution_count": 17,
   "id": "-N1G46XlvX1B",
   "metadata": {
    "colab": {
     "base_uri": "https://localhost:8080/",
     "height": 465
    },
    "id": "-N1G46XlvX1B",
    "outputId": "d184477d-e419-4313-9da3-f04ec2f9d80e"
   },
   "outputs": [
    {
     "data": {
      "image/png": "[encoded data removed]",
      "text/plain": [
       "<Figure size 640x480 with 1 Axes>"
      ]
     },
     "metadata": {},
     "output_type": "display_data"
    },
    {
     "name": "stdout",
     "output_type": "stream",
     "text": [
      " Notre modèle prédit que c'est: 4\n"
     ]
    }
   ],
   "source": [
    "# Randomly select an image from the test set\n",
    "idx = random.randrange(0, X_test.shape[1])\n",
    "selected_image = X_test[:, idx].reshape(X_test[:, idx].shape[0], 1)\n",
    "\n",
    "# Display the selected image\n",
    "plt.imshow(selected_image.reshape((28, 28)), cmap='gray')\n",
    "plt.show()\n",
    "\n",
    "# Calculate and display the model's prediction for the selected image\n",
    "a_out = forward_propagation(selected_image, parameters)  \n",
    "predicted_label = np.argmax(a_out['A3'], axis=0)\n",
    "\n",
    "print(\" Notre modèle prédit que c'est:\", predicted_label[0])"
   ]
  }
 ],
 "metadata": {
  "colab": {
   "provenance": []
  },
  "kernelspec": {
   "display_name": "Python 3 (ipykernel)",
   "language": "python",
   "name": "python3"
  },
  "language_info": {
   "codemirror_mode": {
    "name": "ipython",
    "version": 3
   },
   "file_extension": ".py",
   "mimetype": "text/x-python",
   "name": "python",
   "nbconvert_exporter": "python",
   "pygments_lexer": "ipython3",
   "version": "3.9.13"
  }
 },
 "nbformat": 4,
 "nbformat_minor": 5
}
